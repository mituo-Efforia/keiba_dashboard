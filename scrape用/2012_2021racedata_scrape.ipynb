{
 "cells": [
  {
   "cell_type": "code",
   "execution_count": 1,
   "metadata": {},
   "outputs": [],
   "source": [
    "import scraiping"
   ]
  },
  {
   "cell_type": "markdown",
   "metadata": {},
   "source": [
    "# 自作のscraipingライブラリを用いて、レースデータをスクレイピング  \n",
    "スクレイピング対象が多いため、分割して実行"
   ]
  },
  {
   "cell_type": "markdown",
   "metadata": {},
   "source": [
    "2012-2013年分をスクレイピング"
   ]
  },
  {
   "cell_type": "code",
   "execution_count": 9,
   "metadata": {},
   "outputs": [],
   "source": [
    "#スクレイピングを行うrace_idを作成(2012〜2013年)\n",
    "race_id_list = []\n",
    "for i in range(2012,2014,1):\n",
    "    for j in range(1,11,1):\n",
    "        for k in range(1,6,1):\n",
    "            for l in range(1,13,1):\n",
    "                for m in range(1,13,1):\n",
    "                    race_id = str(i)+str(j).zfill(2)+str(k).zfill(2)+str(l).zfill(2)+str(m).zfill(2)\n",
    "                    race_id_list.append(race_id)"
   ]
  },
  {
   "cell_type": "code",
   "execution_count": 12,
   "metadata": {},
   "outputs": [
    {
     "name": "stderr",
     "output_type": "stream",
     "text": [
      "100%|██████████| 10800/10800 [4:20:32<00:00,  1.45s/it] \n"
     ]
    }
   ],
   "source": [
    "#スクレイピングを実行\n",
    "df_2012_2013=scraiping.race_scrape(race_id_list)"
   ]
  },
  {
   "cell_type": "code",
   "execution_count": 13,
   "metadata": {},
   "outputs": [],
   "source": [
    "#csvファイル化\n",
    "df_2012_2013.to_csv('race_data_2012_2013.csv',header=True)"
   ]
  },
  {
   "cell_type": "markdown",
   "metadata": {},
   "source": [
    "2014~2018年分をスクレイピング"
   ]
  },
  {
   "cell_type": "code",
   "execution_count": 14,
   "metadata": {},
   "outputs": [],
   "source": [
    "race_id_list_2014_2018 = []\n",
    "for i in range(2014,2019,1):\n",
    "    for j in range(1,11,1):\n",
    "        for k in range(1,6,1):\n",
    "            for l in range(1,13,1):\n",
    "                for m in range(1,13,1):\n",
    "                    race_id = str(i)+str(j).zfill(2)+str(k).zfill(2)+str(l).zfill(2)+str(m).zfill(2)\n",
    "                    race_id_list_2014_2018.append(race_id)"
   ]
  },
  {
   "cell_type": "code",
   "execution_count": 15,
   "metadata": {},
   "outputs": [
    {
     "name": "stderr",
     "output_type": "stream",
     "text": [
      "100%|██████████| 27000/27000 [10:30:30<00:00,  1.40s/it] \n"
     ]
    }
   ],
   "source": [
    "df_2014_2018=scraiping.race_scrape(race_id_list_2014_2018)"
   ]
  },
  {
   "cell_type": "code",
   "execution_count": 16,
   "metadata": {},
   "outputs": [],
   "source": [
    "df_2014_2018.to_csv('race_data_2014_2018.csv',header=True)"
   ]
  },
  {
   "cell_type": "markdown",
   "metadata": {},
   "source": [
    "2020~2021年分のデータをスクレイピング"
   ]
  },
  {
   "cell_type": "code",
   "execution_count": 1,
   "metadata": {},
   "outputs": [],
   "source": [
    "url_list = []\n",
    "race_id_list_2019_2021 = []\n",
    "for i in range(2019,2022,1):\n",
    "    for j in range(1,11,1):\n",
    "        for k in range(1,6,1):\n",
    "            for l in range(1,13,1):\n",
    "                for m in range(1,13,1):\n",
    "                    race_id = str(i)+str(j).zfill(2)+str(k).zfill(2)+str(l).zfill(2)+str(m).zfill(2)    \n",
    "                    race_id_list_2019_2021.append(race_id)"
   ]
  },
  {
   "cell_type": "code",
   "execution_count": null,
   "metadata": {},
   "outputs": [],
   "source": [
    "df_2019_2021=scraiping.race_scrape(race_id_list=race_id_list_2019_2021)\n",
    "df_2019_2021.to_csv('race_data_2019_2021.csv',header=True)"
   ]
  }
 ],
 "metadata": {
  "kernelspec": {
   "display_name": "python310",
   "language": "python",
   "name": "python3"
  },
  "language_info": {
   "codemirror_mode": {
    "name": "ipython",
    "version": 3
   },
   "file_extension": ".py",
   "mimetype": "text/x-python",
   "name": "python",
   "nbconvert_exporter": "python",
   "pygments_lexer": "ipython3",
   "version": "3.10.12"
  },
  "orig_nbformat": 4
 },
 "nbformat": 4,
 "nbformat_minor": 2
}
